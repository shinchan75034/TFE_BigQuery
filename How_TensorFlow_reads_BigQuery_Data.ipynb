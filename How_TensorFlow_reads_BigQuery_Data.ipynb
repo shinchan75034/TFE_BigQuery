{
  "nbformat": 4,
  "nbformat_minor": 0,
  "metadata": {
    "colab": {
      "name": "How TensorFlow reads BigQuery Data",
      "provenance": [],
      "collapsed_sections": [],
      "include_colab_link": true
    },
    "kernelspec": {
      "display_name": "Python 3",
      "name": "python3"
    },
    "accelerator": "GPU"
  },
  "cells": [
    {
      "cell_type": "markdown",
      "metadata": {
        "id": "view-in-github",
        "colab_type": "text"
      },
      "source": [
        "<a href=\"https://colab.research.google.com/github/shinchan75034/TFE_BigQuery/blob/master/How_TensorFlow_reads_BigQuery_Data.ipynb\" target=\"_parent\"><img src=\"https://colab.research.google.com/assets/colab-badge.svg\" alt=\"Open In Colab\"/></a>"
      ]
    },
    {
      "cell_type": "markdown",
      "metadata": {
        "id": "vmHv_d0t4qNs",
        "colab_type": "text"
      },
      "source": [
        "# BigQuery as data source for TensorFlow"
      ]
    },
    {
      "cell_type": "markdown",
      "metadata": {
        "id": "TPSSLyZo5CCC",
        "colab_type": "text"
      },
      "source": [
        "This quick demo demonstrate how to use TensorFlow to access data in BigQuery. The objective here is to read structured data from a data warehouse such as BigQuery, and with `TensorFlow IO`, you can have the data ready as an iterator, which is ready for TensorFlow consumption, i.e., using it as a training dataset for your model."
      ]
    },
    {
      "cell_type": "markdown",
      "metadata": {
        "colab_type": "text",
        "id": "KcAZ2RHCg_Ze"
      },
      "source": [
        "### Requirement\n",
        "\n",
        "\n",
        "1.   You need a project created under your GCP account. Use the [Cloud Resource Manager](https://console.cloud.google.com/cloud-resource-manager) to Create one if you don't have one. Keep project name and project ID in a note pad.\n",
        "2.   Also need to [enable billing](https://support.google.com/cloud/answer/6293499#enable-billing).\n",
        "3.   Finally you need to [enable BigQuery](https://console.cloud.google.com/flows/enableapi?apiid=bigquery) API\n"
      ]
    },
    {
      "cell_type": "markdown",
      "metadata": {
        "id": "XUPLfGi56cWS",
        "colab_type": "text"
      },
      "source": [
        "Next, lets install `TensorFlow IO`. This is not preinstalled in `Colab`."
      ]
    },
    {
      "cell_type": "code",
      "metadata": {
        "id": "KH_MwEurSLyJ",
        "colab_type": "code",
        "outputId": "4f6d6d72-ad6c-40d7-e77d-6d23ccbc2ab8",
        "colab": {
          "base_uri": "https://localhost:8080/",
          "height": 1000
        }
      },
      "source": [
        "!pip install tensorflow-io"
      ],
      "execution_count": 1,
      "outputs": [
        {
          "output_type": "stream",
          "text": [
            "Collecting tensorflow-io\n",
            "\u001b[?25l  Downloading https://files.pythonhosted.org/packages/c0/d0/c5d7adce72c6a6d7c9a59c062150f60b5404c706578a0922f7dc2835713c/tensorflow_io-0.12.0-cp36-cp36m-manylinux2010_x86_64.whl (20.1MB)\n",
            "\u001b[K     |████████████████████████████████| 20.1MB 1.4MB/s \n",
            "\u001b[?25hCollecting tensorflow<2.2.0,>=2.1.0\n",
            "\u001b[?25l  Downloading https://files.pythonhosted.org/packages/85/d4/c0cd1057b331bc38b65478302114194bd8e1b9c2bbc06e300935c0e93d90/tensorflow-2.1.0-cp36-cp36m-manylinux2010_x86_64.whl (421.8MB)\n",
            "\u001b[K     |████████████████████████████████| 421.8MB 24kB/s \n",
            "\u001b[?25hRequirement already satisfied: numpy<2.0,>=1.16.0 in /usr/local/lib/python3.6/dist-packages (from tensorflow<2.2.0,>=2.1.0->tensorflow-io) (1.18.3)\n",
            "Requirement already satisfied: keras-applications>=1.0.8 in /usr/local/lib/python3.6/dist-packages (from tensorflow<2.2.0,>=2.1.0->tensorflow-io) (1.0.8)\n",
            "Requirement already satisfied: termcolor>=1.1.0 in /usr/local/lib/python3.6/dist-packages (from tensorflow<2.2.0,>=2.1.0->tensorflow-io) (1.1.0)\n",
            "Requirement already satisfied: six>=1.12.0 in /usr/local/lib/python3.6/dist-packages (from tensorflow<2.2.0,>=2.1.0->tensorflow-io) (1.12.0)\n",
            "Requirement already satisfied: keras-preprocessing>=1.1.0 in /usr/local/lib/python3.6/dist-packages (from tensorflow<2.2.0,>=2.1.0->tensorflow-io) (1.1.0)\n",
            "Requirement already satisfied: grpcio>=1.8.6 in /usr/local/lib/python3.6/dist-packages (from tensorflow<2.2.0,>=2.1.0->tensorflow-io) (1.28.1)\n",
            "Collecting gast==0.2.2\n",
            "  Downloading https://files.pythonhosted.org/packages/4e/35/11749bf99b2d4e3cceb4d55ca22590b0d7c2c62b9de38ac4a4a7f4687421/gast-0.2.2.tar.gz\n",
            "Requirement already satisfied: google-pasta>=0.1.6 in /usr/local/lib/python3.6/dist-packages (from tensorflow<2.2.0,>=2.1.0->tensorflow-io) (0.2.0)\n",
            "Requirement already satisfied: absl-py>=0.7.0 in /usr/local/lib/python3.6/dist-packages (from tensorflow<2.2.0,>=2.1.0->tensorflow-io) (0.9.0)\n",
            "Requirement already satisfied: protobuf>=3.8.0 in /usr/local/lib/python3.6/dist-packages (from tensorflow<2.2.0,>=2.1.0->tensorflow-io) (3.10.0)\n",
            "Requirement already satisfied: astor>=0.6.0 in /usr/local/lib/python3.6/dist-packages (from tensorflow<2.2.0,>=2.1.0->tensorflow-io) (0.8.1)\n",
            "Requirement already satisfied: opt-einsum>=2.3.2 in /usr/local/lib/python3.6/dist-packages (from tensorflow<2.2.0,>=2.1.0->tensorflow-io) (3.2.1)\n",
            "Collecting tensorflow-estimator<2.2.0,>=2.1.0rc0\n",
            "\u001b[?25l  Downloading https://files.pythonhosted.org/packages/18/90/b77c328a1304437ab1310b463e533fa7689f4bfc41549593056d812fab8e/tensorflow_estimator-2.1.0-py2.py3-none-any.whl (448kB)\n",
            "\u001b[K     |████████████████████████████████| 450kB 50.4MB/s \n",
            "\u001b[?25hCollecting tensorboard<2.2.0,>=2.1.0\n",
            "\u001b[?25l  Downloading https://files.pythonhosted.org/packages/d9/41/bbf49b61370e4f4d245d4c6051dfb6db80cec672605c91b1652ac8cc3d38/tensorboard-2.1.1-py3-none-any.whl (3.8MB)\n",
            "\u001b[K     |████████████████████████████████| 3.9MB 50.3MB/s \n",
            "\u001b[?25hRequirement already satisfied: wrapt>=1.11.1 in /usr/local/lib/python3.6/dist-packages (from tensorflow<2.2.0,>=2.1.0->tensorflow-io) (1.12.1)\n",
            "Requirement already satisfied: wheel>=0.26; python_version >= \"3\" in /usr/local/lib/python3.6/dist-packages (from tensorflow<2.2.0,>=2.1.0->tensorflow-io) (0.34.2)\n",
            "Requirement already satisfied: scipy==1.4.1; python_version >= \"3\" in /usr/local/lib/python3.6/dist-packages (from tensorflow<2.2.0,>=2.1.0->tensorflow-io) (1.4.1)\n",
            "Requirement already satisfied: h5py in /usr/local/lib/python3.6/dist-packages (from keras-applications>=1.0.8->tensorflow<2.2.0,>=2.1.0->tensorflow-io) (2.10.0)\n",
            "Requirement already satisfied: setuptools in /usr/local/lib/python3.6/dist-packages (from protobuf>=3.8.0->tensorflow<2.2.0,>=2.1.0->tensorflow-io) (46.1.3)\n",
            "Requirement already satisfied: requests<3,>=2.21.0 in /usr/local/lib/python3.6/dist-packages (from tensorboard<2.2.0,>=2.1.0->tensorflow<2.2.0,>=2.1.0->tensorflow-io) (2.23.0)\n",
            "Requirement already satisfied: google-auth<2,>=1.6.3 in /usr/local/lib/python3.6/dist-packages (from tensorboard<2.2.0,>=2.1.0->tensorflow<2.2.0,>=2.1.0->tensorflow-io) (1.7.2)\n",
            "Requirement already satisfied: google-auth-oauthlib<0.5,>=0.4.1 in /usr/local/lib/python3.6/dist-packages (from tensorboard<2.2.0,>=2.1.0->tensorflow<2.2.0,>=2.1.0->tensorflow-io) (0.4.1)\n",
            "Requirement already satisfied: werkzeug>=0.11.15 in /usr/local/lib/python3.6/dist-packages (from tensorboard<2.2.0,>=2.1.0->tensorflow<2.2.0,>=2.1.0->tensorflow-io) (1.0.1)\n",
            "Requirement already satisfied: markdown>=2.6.8 in /usr/local/lib/python3.6/dist-packages (from tensorboard<2.2.0,>=2.1.0->tensorflow<2.2.0,>=2.1.0->tensorflow-io) (3.2.1)\n",
            "Requirement already satisfied: urllib3!=1.25.0,!=1.25.1,<1.26,>=1.21.1 in /usr/local/lib/python3.6/dist-packages (from requests<3,>=2.21.0->tensorboard<2.2.0,>=2.1.0->tensorflow<2.2.0,>=2.1.0->tensorflow-io) (1.24.3)\n",
            "Requirement already satisfied: chardet<4,>=3.0.2 in /usr/local/lib/python3.6/dist-packages (from requests<3,>=2.21.0->tensorboard<2.2.0,>=2.1.0->tensorflow<2.2.0,>=2.1.0->tensorflow-io) (3.0.4)\n",
            "Requirement already satisfied: idna<3,>=2.5 in /usr/local/lib/python3.6/dist-packages (from requests<3,>=2.21.0->tensorboard<2.2.0,>=2.1.0->tensorflow<2.2.0,>=2.1.0->tensorflow-io) (2.9)\n",
            "Requirement already satisfied: certifi>=2017.4.17 in /usr/local/lib/python3.6/dist-packages (from requests<3,>=2.21.0->tensorboard<2.2.0,>=2.1.0->tensorflow<2.2.0,>=2.1.0->tensorflow-io) (2020.4.5.1)\n",
            "Requirement already satisfied: rsa<4.1,>=3.1.4 in /usr/local/lib/python3.6/dist-packages (from google-auth<2,>=1.6.3->tensorboard<2.2.0,>=2.1.0->tensorflow<2.2.0,>=2.1.0->tensorflow-io) (4.0)\n",
            "Requirement already satisfied: cachetools<3.2,>=2.0.0 in /usr/local/lib/python3.6/dist-packages (from google-auth<2,>=1.6.3->tensorboard<2.2.0,>=2.1.0->tensorflow<2.2.0,>=2.1.0->tensorflow-io) (3.1.1)\n",
            "Requirement already satisfied: pyasn1-modules>=0.2.1 in /usr/local/lib/python3.6/dist-packages (from google-auth<2,>=1.6.3->tensorboard<2.2.0,>=2.1.0->tensorflow<2.2.0,>=2.1.0->tensorflow-io) (0.2.8)\n",
            "Requirement already satisfied: requests-oauthlib>=0.7.0 in /usr/local/lib/python3.6/dist-packages (from google-auth-oauthlib<0.5,>=0.4.1->tensorboard<2.2.0,>=2.1.0->tensorflow<2.2.0,>=2.1.0->tensorflow-io) (1.3.0)\n",
            "Requirement already satisfied: pyasn1>=0.1.3 in /usr/local/lib/python3.6/dist-packages (from rsa<4.1,>=3.1.4->google-auth<2,>=1.6.3->tensorboard<2.2.0,>=2.1.0->tensorflow<2.2.0,>=2.1.0->tensorflow-io) (0.4.8)\n",
            "Requirement already satisfied: oauthlib>=3.0.0 in /usr/local/lib/python3.6/dist-packages (from requests-oauthlib>=0.7.0->google-auth-oauthlib<0.5,>=0.4.1->tensorboard<2.2.0,>=2.1.0->tensorflow<2.2.0,>=2.1.0->tensorflow-io) (3.1.0)\n",
            "Building wheels for collected packages: gast\n",
            "  Building wheel for gast (setup.py) ... \u001b[?25l\u001b[?25hdone\n",
            "  Created wheel for gast: filename=gast-0.2.2-cp36-none-any.whl size=7540 sha256=bffd6b93442568c5bc94f8fe150c4787b772d330f9ed5167ec214c63ac1b24a6\n",
            "  Stored in directory: /root/.cache/pip/wheels/5c/2e/7e/a1d4d4fcebe6c381f378ce7743a3ced3699feb89bcfbdadadd\n",
            "Successfully built gast\n",
            "\u001b[31mERROR: tensorflow-probability 0.10.0rc0 has requirement gast>=0.3.2, but you'll have gast 0.2.2 which is incompatible.\u001b[0m\n",
            "Installing collected packages: gast, tensorflow-estimator, tensorboard, tensorflow, tensorflow-io\n",
            "  Found existing installation: gast 0.3.3\n",
            "    Uninstalling gast-0.3.3:\n",
            "      Successfully uninstalled gast-0.3.3\n",
            "  Found existing installation: tensorflow-estimator 2.2.0\n",
            "    Uninstalling tensorflow-estimator-2.2.0:\n",
            "      Successfully uninstalled tensorflow-estimator-2.2.0\n",
            "  Found existing installation: tensorboard 2.2.1\n",
            "    Uninstalling tensorboard-2.2.1:\n",
            "      Successfully uninstalled tensorboard-2.2.1\n",
            "  Found existing installation: tensorflow 2.2.0rc4\n",
            "    Uninstalling tensorflow-2.2.0rc4:\n",
            "      Successfully uninstalled tensorflow-2.2.0rc4\n",
            "Successfully installed gast-0.2.2 tensorboard-2.1.1 tensorflow-2.1.0 tensorflow-estimator-2.1.0 tensorflow-io-0.12.0\n"
          ],
          "name": "stdout"
        }
      ]
    },
    {
      "cell_type": "markdown",
      "metadata": {
        "colab_type": "text",
        "id": "qTmLBxDxBAZL"
      },
      "source": [
        "### Authenticate your credential"
      ]
    },
    {
      "cell_type": "code",
      "metadata": {
        "colab_type": "code",
        "id": "SeTJb51SKs_W",
        "outputId": "cf9563b7-8b26-42f6-84ec-dc18d3c6b8cf",
        "colab": {
          "base_uri": "https://localhost:8080/",
          "height": 34
        }
      },
      "source": [
        "from google.colab import auth\n",
        "auth.authenticate_user()\n",
        "print('Authenticated')"
      ],
      "execution_count": 2,
      "outputs": [
        {
          "output_type": "stream",
          "text": [
            "Authenticated\n"
          ],
          "name": "stdout"
        }
      ]
    },
    {
      "cell_type": "markdown",
      "metadata": {
        "id": "6fwni1cA7cpm",
        "colab_type": "text"
      },
      "source": [
        "Specify my project ID:"
      ]
    },
    {
      "cell_type": "code",
      "metadata": {
        "id": "Ukmfd1S_ZeKK",
        "colab_type": "code",
        "outputId": "03679332-7c67-42a7-ad47-c344fbb5b2e6",
        "colab": {
          "base_uri": "https://localhost:8080/",
          "height": 51
        }
      },
      "source": [
        "PROJECT_ID = \"project1-190517\" #@param {type:\"string\"}\n",
        "! gcloud config set project $PROJECT_ID\n",
        "%env GCLOUD_PROJECT=$PROJECT_ID"
      ],
      "execution_count": 3,
      "outputs": [
        {
          "output_type": "stream",
          "text": [
            "Updated property [core/project].\n",
            "env: GCLOUD_PROJECT=project1-190517\n"
          ],
          "name": "stdout"
        }
      ]
    },
    {
      "cell_type": "markdown",
      "metadata": {
        "colab_type": "text",
        "id": "UMKGkkZEPVRu"
      },
      "source": [
        "## Optional: Enable data table display\n",
        "\n",
        "Colab includes the ``google.colab.data_table`` package that can be used to display large pandas dataframes as an interactive data table.\n",
        "It can be enabled with:"
      ]
    },
    {
      "cell_type": "code",
      "metadata": {
        "colab_type": "code",
        "id": "LMNA-vBHPyHz",
        "colab": {}
      },
      "source": [
        "%load_ext google.colab.data_table"
      ],
      "execution_count": 0,
      "outputs": []
    },
    {
      "cell_type": "markdown",
      "metadata": {
        "colab_type": "text",
        "id": "y7QuudxdP0jH"
      },
      "source": [
        "If you would prefer to return to the classic Pandas dataframe display, you can disable this by running:\n",
        "```python\n",
        "%unload_ext google.colab.data_table\n",
        "```"
      ]
    },
    {
      "cell_type": "markdown",
      "metadata": {
        "colab_type": "text",
        "id": "OHCBQv4uTCPc"
      },
      "source": [
        "# Use BigQuery via magics\n",
        "\n",
        "The `google.cloud.bigquery` library also includes a magic command which runs a query and either displays the result or saves it to a variable as a `DataFrame`."
      ]
    },
    {
      "cell_type": "code",
      "metadata": {
        "colab_type": "code",
        "id": "DMxOKQ3vJplj",
        "outputId": "d4eada6c-b1b9-42fa-e7ee-388033f26aa4",
        "colab": {
          "base_uri": "https://localhost:8080/",
          "height": 111
        }
      },
      "source": [
        "# Display query output immediately\n",
        "\n",
        "%%bigquery --project project1-190517\n",
        "SELECT \n",
        "  COUNT(*) as total_rows\n",
        "FROM `bigquery-public-data.samples.gsod`"
      ],
      "execution_count": 5,
      "outputs": [
        {
          "output_type": "execute_result",
          "data": {
            "application/vnd.google.colaboratory.module+javascript": "\n      import \"https://ssl.gstatic.com/colaboratory/data_table/a6224c040fa35dcf/data_table.js\";\n\n      window.createDataTable({\n        data: [[{\n            'v': 0,\n            'f': \"0\",\n        },\n{\n            'v': 114420316,\n            'f': \"114420316\",\n        }]],\n        columns: [[\"number\", \"index\"], [\"number\", \"total_rows\"]],\n        columnOptions: [{\"width\": \"1px\", \"className\": \"index_column\"}],\n        rowsPerPage: 25,\n        helpUrl: \"https://colab.research.google.com/notebooks/data_table.ipynb\",\n        suppressOutputScrolling: true,\n        minimumWidth: undefined,\n      });\n    ",
            "text/html": [
              "<div>\n",
              "<style scoped>\n",
              "    .dataframe tbody tr th:only-of-type {\n",
              "        vertical-align: middle;\n",
              "    }\n",
              "\n",
              "    .dataframe tbody tr th {\n",
              "        vertical-align: top;\n",
              "    }\n",
              "\n",
              "    .dataframe thead th {\n",
              "        text-align: right;\n",
              "    }\n",
              "</style>\n",
              "<table border=\"1\" class=\"dataframe\">\n",
              "  <thead>\n",
              "    <tr style=\"text-align: right;\">\n",
              "      <th></th>\n",
              "      <th>total_rows</th>\n",
              "    </tr>\n",
              "  </thead>\n",
              "  <tbody>\n",
              "    <tr>\n",
              "      <th>0</th>\n",
              "      <td>114420316</td>\n",
              "    </tr>\n",
              "  </tbody>\n",
              "</table>\n",
              "</div>"
            ],
            "text/plain": [
              "   total_rows\n",
              "0   114420316"
            ]
          },
          "metadata": {
            "tags": []
          },
          "execution_count": 5
        }
      ]
    },
    {
      "cell_type": "markdown",
      "metadata": {
        "id": "35siGtBb7tDg",
        "colab_type": "text"
      },
      "source": [
        "You can also designate the output to a `pandas` dataframe:"
      ]
    },
    {
      "cell_type": "code",
      "metadata": {
        "colab_type": "code",
        "id": "cLh05lDpJ4wj",
        "colab": {}
      },
      "source": [
        "# Save output in a variable `df`\n",
        "\n",
        "%%bigquery --project project1-190517 df\n",
        "SELECT \n",
        "  COUNT(*) as total_rows\n",
        "FROM `bigquery-public-data.samples.gsod`"
      ],
      "execution_count": 0,
      "outputs": []
    },
    {
      "cell_type": "code",
      "metadata": {
        "colab_type": "code",
        "id": "xgopBClCKs_0",
        "outputId": "6b991d07-d900-43d6-8ba1-7940d160073d",
        "colab": {
          "base_uri": "https://localhost:8080/",
          "height": 111
        }
      },
      "source": [
        "df"
      ],
      "execution_count": 7,
      "outputs": [
        {
          "output_type": "execute_result",
          "data": {
            "application/vnd.google.colaboratory.module+javascript": "\n      import \"https://ssl.gstatic.com/colaboratory/data_table/a6224c040fa35dcf/data_table.js\";\n\n      window.createDataTable({\n        data: [[{\n            'v': 0,\n            'f': \"0\",\n        },\n{\n            'v': 114420316,\n            'f': \"114420316\",\n        }]],\n        columns: [[\"number\", \"index\"], [\"number\", \"total_rows\"]],\n        columnOptions: [{\"width\": \"1px\", \"className\": \"index_column\"}],\n        rowsPerPage: 25,\n        helpUrl: \"https://colab.research.google.com/notebooks/data_table.ipynb\",\n        suppressOutputScrolling: true,\n        minimumWidth: undefined,\n      });\n    ",
            "text/html": [
              "<div>\n",
              "<style scoped>\n",
              "    .dataframe tbody tr th:only-of-type {\n",
              "        vertical-align: middle;\n",
              "    }\n",
              "\n",
              "    .dataframe tbody tr th {\n",
              "        vertical-align: top;\n",
              "    }\n",
              "\n",
              "    .dataframe thead th {\n",
              "        text-align: right;\n",
              "    }\n",
              "</style>\n",
              "<table border=\"1\" class=\"dataframe\">\n",
              "  <thead>\n",
              "    <tr style=\"text-align: right;\">\n",
              "      <th></th>\n",
              "      <th>total_rows</th>\n",
              "    </tr>\n",
              "  </thead>\n",
              "  <tbody>\n",
              "    <tr>\n",
              "      <th>0</th>\n",
              "      <td>114420316</td>\n",
              "    </tr>\n",
              "  </tbody>\n",
              "</table>\n",
              "</div>"
            ],
            "text/plain": [
              "   total_rows\n",
              "0   114420316"
            ]
          },
          "metadata": {
            "tags": []
          },
          "execution_count": 7
        }
      ]
    },
    {
      "cell_type": "code",
      "metadata": {
        "id": "2JLptg2S70Li",
        "colab_type": "code",
        "colab": {
          "base_uri": "https://localhost:8080/",
          "height": 34
        },
        "outputId": "e1a7e718-d64a-497e-a59f-d9e7104aa95c"
      },
      "source": [
        "type(df)"
      ],
      "execution_count": 8,
      "outputs": [
        {
          "output_type": "execute_result",
          "data": {
            "text/plain": [
              "pandas.core.frame.DataFrame"
            ]
          },
          "metadata": {
            "tags": []
          },
          "execution_count": 8
        }
      ]
    },
    {
      "cell_type": "markdown",
      "metadata": {
        "colab_type": "text",
        "id": "fkhbyGaXKs_6"
      },
      "source": [
        "# Use BigQuery through google-cloud-bigquery\n",
        "\n",
        "See [BigQuery documentation](https://cloud.google.com/bigquery/docs) and [library reference documentation](https://googlecloudplatform.github.io/google-cloud-python/latest/bigquery/usage.html).\n",
        "\n",
        "The [GSOD sample table](https://bigquery.cloud.google.com/table/bigquery-public-data:samples.gsod) contains weather information collected by NOAA, such as precipitation amounts and wind speeds from late 1929 to early 2010.\n"
      ]
    },
    {
      "cell_type": "markdown",
      "metadata": {
        "colab_type": "text",
        "id": "goQQ96EDKs_7"
      },
      "source": [
        "### Declare the Cloud project ID which will be used throughout this notebook"
      ]
    },
    {
      "cell_type": "code",
      "metadata": {
        "colab_type": "code",
        "id": "hWK0nJWgKs_8",
        "colab": {}
      },
      "source": [
        "project_id = 'project1-190517'"
      ],
      "execution_count": 0,
      "outputs": []
    },
    {
      "cell_type": "markdown",
      "metadata": {
        "colab_type": "text",
        "id": "lK-9fSClKtAB"
      },
      "source": [
        "### Sample approximately 2000 random rows"
      ]
    },
    {
      "cell_type": "code",
      "metadata": {
        "colab_type": "code",
        "id": "ONI1Xo0-KtAD",
        "outputId": "7a0e538f-9286-417a-ea51-f3230b34e554",
        "colab": {
          "base_uri": "https://localhost:8080/",
          "height": 34
        }
      },
      "source": [
        "from google.cloud import bigquery\n",
        "\n",
        "client = bigquery.Client(project=project_id)\n",
        "\n",
        "sample_count = 2000\n",
        "row_count = client.query('''\n",
        "  SELECT \n",
        "    COUNT(*) as total\n",
        "  FROM `bigquery-public-data.samples.gsod`''').to_dataframe().total[0]\n",
        "\n",
        "df = client.query('''\n",
        "  SELECT\n",
        "    *\n",
        "  FROM\n",
        "    `bigquery-public-data.samples.gsod`\n",
        "  WHERE RAND() < %d/%d\n",
        "''' % (sample_count, row_count)).to_dataframe()\n",
        "\n",
        "print('Full dataset has %d rows' % row_count)"
      ],
      "execution_count": 10,
      "outputs": [
        {
          "output_type": "stream",
          "text": [
            "Full dataset has 114420316 rows\n"
          ],
          "name": "stdout"
        }
      ]
    },
    {
      "cell_type": "markdown",
      "metadata": {
        "colab_type": "text",
        "id": "Bu2C7iWMKtAM"
      },
      "source": [
        "### Describe the sampled data"
      ]
    },
    {
      "cell_type": "code",
      "metadata": {
        "colab_type": "code",
        "id": "XrFmZBr9KtAN",
        "outputId": "fdcf6093-3d33-4558-f74f-7835e119a175",
        "colab": {
          "base_uri": "https://localhost:8080/",
          "height": 317
        }
      },
      "source": [
        "df.describe()"
      ],
      "execution_count": 11,
      "outputs": [
        {
          "output_type": "execute_result",
          "data": {
            "text/html": [
              "<div>\n",
              "<style scoped>\n",
              "    .dataframe tbody tr th:only-of-type {\n",
              "        vertical-align: middle;\n",
              "    }\n",
              "\n",
              "    .dataframe tbody tr th {\n",
              "        vertical-align: top;\n",
              "    }\n",
              "\n",
              "    .dataframe thead th {\n",
              "        text-align: right;\n",
              "    }\n",
              "</style>\n",
              "<table border=\"1\" class=\"dataframe\">\n",
              "  <thead>\n",
              "    <tr style=\"text-align: right;\">\n",
              "      <th></th>\n",
              "      <th>station_number</th>\n",
              "      <th>wban_number</th>\n",
              "      <th>year</th>\n",
              "      <th>month</th>\n",
              "      <th>day</th>\n",
              "      <th>mean_temp</th>\n",
              "      <th>num_mean_temp_samples</th>\n",
              "      <th>mean_dew_point</th>\n",
              "      <th>num_mean_dew_point_samples</th>\n",
              "      <th>mean_sealevel_pressure</th>\n",
              "      <th>num_mean_sealevel_pressure_samples</th>\n",
              "      <th>mean_station_pressure</th>\n",
              "      <th>num_mean_station_pressure_samples</th>\n",
              "      <th>mean_visibility</th>\n",
              "      <th>num_mean_visibility_samples</th>\n",
              "      <th>mean_wind_speed</th>\n",
              "      <th>num_mean_wind_speed_samples</th>\n",
              "      <th>max_sustained_wind_speed</th>\n",
              "      <th>max_gust_wind_speed</th>\n",
              "      <th>max_temperature</th>\n",
              "      <th>total_precipitation</th>\n",
              "      <th>snow_depth</th>\n",
              "    </tr>\n",
              "  </thead>\n",
              "  <tbody>\n",
              "    <tr>\n",
              "      <th>count</th>\n",
              "      <td>2067.000000</td>\n",
              "      <td>2067.000000</td>\n",
              "      <td>2067.000000</td>\n",
              "      <td>2067.000000</td>\n",
              "      <td>2067.000000</td>\n",
              "      <td>2067.000000</td>\n",
              "      <td>2067.000000</td>\n",
              "      <td>1958.000000</td>\n",
              "      <td>1958.000000</td>\n",
              "      <td>1561.000000</td>\n",
              "      <td>1561.000000</td>\n",
              "      <td>758.000000</td>\n",
              "      <td>758.000000</td>\n",
              "      <td>1848.000000</td>\n",
              "      <td>1848.000000</td>\n",
              "      <td>2038.000000</td>\n",
              "      <td>2038.000000</td>\n",
              "      <td>1999.000000</td>\n",
              "      <td>268.000000</td>\n",
              "      <td>2062.000000</td>\n",
              "      <td>1906.000000</td>\n",
              "      <td>124.000000</td>\n",
              "    </tr>\n",
              "    <tr>\n",
              "      <th>mean</th>\n",
              "      <td>498485.054185</td>\n",
              "      <td>90808.979681</td>\n",
              "      <td>1986.985970</td>\n",
              "      <td>6.519594</td>\n",
              "      <td>15.804064</td>\n",
              "      <td>51.793904</td>\n",
              "      <td>12.846638</td>\n",
              "      <td>41.274259</td>\n",
              "      <td>12.799796</td>\n",
              "      <td>1015.047918</td>\n",
              "      <td>11.226778</td>\n",
              "      <td>965.651584</td>\n",
              "      <td>11.915567</td>\n",
              "      <td>11.869102</td>\n",
              "      <td>12.513528</td>\n",
              "      <td>6.731845</td>\n",
              "      <td>12.834642</td>\n",
              "      <td>12.021311</td>\n",
              "      <td>25.450000</td>\n",
              "      <td>43.258729</td>\n",
              "      <td>0.078736</td>\n",
              "      <td>10.352419</td>\n",
              "    </tr>\n",
              "    <tr>\n",
              "      <th>std</th>\n",
              "      <td>298966.205193</td>\n",
              "      <td>25632.352131</td>\n",
              "      <td>16.102386</td>\n",
              "      <td>3.478182</td>\n",
              "      <td>8.714678</td>\n",
              "      <td>23.750090</td>\n",
              "      <td>7.885200</td>\n",
              "      <td>22.005168</td>\n",
              "      <td>7.927608</td>\n",
              "      <td>9.778742</td>\n",
              "      <td>7.511859</td>\n",
              "      <td>70.346762</td>\n",
              "      <td>7.856423</td>\n",
              "      <td>8.564988</td>\n",
              "      <td>7.816648</td>\n",
              "      <td>4.819194</td>\n",
              "      <td>7.868746</td>\n",
              "      <td>6.590083</td>\n",
              "      <td>8.039623</td>\n",
              "      <td>23.652859</td>\n",
              "      <td>0.346302</td>\n",
              "      <td>9.025713</td>\n",
              "    </tr>\n",
              "    <tr>\n",
              "      <th>min</th>\n",
              "      <td>10230.000000</td>\n",
              "      <td>222.000000</td>\n",
              "      <td>1933.000000</td>\n",
              "      <td>1.000000</td>\n",
              "      <td>1.000000</td>\n",
              "      <td>-60.299999</td>\n",
              "      <td>4.000000</td>\n",
              "      <td>-41.299999</td>\n",
              "      <td>4.000000</td>\n",
              "      <td>902.099976</td>\n",
              "      <td>4.000000</td>\n",
              "      <td>620.400024</td>\n",
              "      <td>4.000000</td>\n",
              "      <td>0.000000</td>\n",
              "      <td>4.000000</td>\n",
              "      <td>0.000000</td>\n",
              "      <td>4.000000</td>\n",
              "      <td>1.000000</td>\n",
              "      <td>4.100000</td>\n",
              "      <td>-65.199997</td>\n",
              "      <td>0.000000</td>\n",
              "      <td>0.400000</td>\n",
              "    </tr>\n",
              "    <tr>\n",
              "      <th>25%</th>\n",
              "      <td>233410.000000</td>\n",
              "      <td>99999.000000</td>\n",
              "      <td>1977.000000</td>\n",
              "      <td>3.000000</td>\n",
              "      <td>8.000000</td>\n",
              "      <td>37.799999</td>\n",
              "      <td>7.000000</td>\n",
              "      <td>28.900000</td>\n",
              "      <td>6.000000</td>\n",
              "      <td>1009.500000</td>\n",
              "      <td>6.000000</td>\n",
              "      <td>945.900024</td>\n",
              "      <td>6.000000</td>\n",
              "      <td>6.300000</td>\n",
              "      <td>6.000000</td>\n",
              "      <td>3.400000</td>\n",
              "      <td>7.000000</td>\n",
              "      <td>7.800000</td>\n",
              "      <td>20.000000</td>\n",
              "      <td>30.200001</td>\n",
              "      <td>0.000000</td>\n",
              "      <td>3.800000</td>\n",
              "    </tr>\n",
              "    <tr>\n",
              "      <th>50%</th>\n",
              "      <td>514630.000000</td>\n",
              "      <td>99999.000000</td>\n",
              "      <td>1989.000000</td>\n",
              "      <td>6.000000</td>\n",
              "      <td>16.000000</td>\n",
              "      <td>55.000000</td>\n",
              "      <td>8.000000</td>\n",
              "      <td>43.900002</td>\n",
              "      <td>8.000000</td>\n",
              "      <td>1014.500000</td>\n",
              "      <td>8.000000</td>\n",
              "      <td>992.900024</td>\n",
              "      <td>8.000000</td>\n",
              "      <td>9.700000</td>\n",
              "      <td>8.000000</td>\n",
              "      <td>5.800000</td>\n",
              "      <td>8.000000</td>\n",
              "      <td>11.100000</td>\n",
              "      <td>25.100000</td>\n",
              "      <td>46.000000</td>\n",
              "      <td>0.000000</td>\n",
              "      <td>7.500000</td>\n",
              "    </tr>\n",
              "    <tr>\n",
              "      <th>75%</th>\n",
              "      <td>724825.500000</td>\n",
              "      <td>99999.000000</td>\n",
              "      <td>2000.000000</td>\n",
              "      <td>10.000000</td>\n",
              "      <td>23.000000</td>\n",
              "      <td>70.149998</td>\n",
              "      <td>23.000000</td>\n",
              "      <td>56.574999</td>\n",
              "      <td>23.000000</td>\n",
              "      <td>1020.700012</td>\n",
              "      <td>19.000000</td>\n",
              "      <td>1008.700012</td>\n",
              "      <td>23.000000</td>\n",
              "      <td>14.625000</td>\n",
              "      <td>23.000000</td>\n",
              "      <td>9.000000</td>\n",
              "      <td>23.000000</td>\n",
              "      <td>15.500000</td>\n",
              "      <td>30.950000</td>\n",
              "      <td>60.099998</td>\n",
              "      <td>0.010000</td>\n",
              "      <td>15.475000</td>\n",
              "    </tr>\n",
              "    <tr>\n",
              "      <th>max</th>\n",
              "      <td>999999.000000</td>\n",
              "      <td>99999.000000</td>\n",
              "      <td>2010.000000</td>\n",
              "      <td>12.000000</td>\n",
              "      <td>31.000000</td>\n",
              "      <td>104.199997</td>\n",
              "      <td>24.000000</td>\n",
              "      <td>80.400002</td>\n",
              "      <td>24.000000</td>\n",
              "      <td>1056.800049</td>\n",
              "      <td>24.000000</td>\n",
              "      <td>1030.599976</td>\n",
              "      <td>24.000000</td>\n",
              "      <td>99.400002</td>\n",
              "      <td>24.000000</td>\n",
              "      <td>63.900002</td>\n",
              "      <td>24.000000</td>\n",
              "      <td>64.900002</td>\n",
              "      <td>52.400002</td>\n",
              "      <td>84.199997</td>\n",
              "      <td>7.330000</td>\n",
              "      <td>42.500000</td>\n",
              "    </tr>\n",
              "  </tbody>\n",
              "</table>\n",
              "</div>"
            ],
            "text/plain": [
              "       station_number   wban_number  ...  total_precipitation  snow_depth\n",
              "count     2067.000000   2067.000000  ...          1906.000000  124.000000\n",
              "mean    498485.054185  90808.979681  ...             0.078736   10.352419\n",
              "std     298966.205193  25632.352131  ...             0.346302    9.025713\n",
              "min      10230.000000    222.000000  ...             0.000000    0.400000\n",
              "25%     233410.000000  99999.000000  ...             0.000000    3.800000\n",
              "50%     514630.000000  99999.000000  ...             0.000000    7.500000\n",
              "75%     724825.500000  99999.000000  ...             0.010000   15.475000\n",
              "max     999999.000000  99999.000000  ...             7.330000   42.500000\n",
              "\n",
              "[8 rows x 22 columns]"
            ]
          },
          "metadata": {
            "tags": []
          },
          "execution_count": 11
        }
      ]
    },
    {
      "cell_type": "markdown",
      "metadata": {
        "colab_type": "text",
        "id": "SVWFp6jIKtAa"
      },
      "source": [
        "### View the first 10 rows"
      ]
    },
    {
      "cell_type": "code",
      "metadata": {
        "colab_type": "code",
        "id": "hEYIhPvAKtAd",
        "outputId": "a6cf0563-2afd-472d-be41-a85e521a24f8",
        "colab": {
          "base_uri": "https://localhost:8080/",
          "height": 379
        }
      },
      "source": [
        "df.head(10)"
      ],
      "execution_count": 12,
      "outputs": [
        {
          "output_type": "execute_result",
          "data": {
            "text/html": [
              "<div>\n",
              "<style scoped>\n",
              "    .dataframe tbody tr th:only-of-type {\n",
              "        vertical-align: middle;\n",
              "    }\n",
              "\n",
              "    .dataframe tbody tr th {\n",
              "        vertical-align: top;\n",
              "    }\n",
              "\n",
              "    .dataframe thead th {\n",
              "        text-align: right;\n",
              "    }\n",
              "</style>\n",
              "<table border=\"1\" class=\"dataframe\">\n",
              "  <thead>\n",
              "    <tr style=\"text-align: right;\">\n",
              "      <th></th>\n",
              "      <th>station_number</th>\n",
              "      <th>wban_number</th>\n",
              "      <th>year</th>\n",
              "      <th>month</th>\n",
              "      <th>day</th>\n",
              "      <th>mean_temp</th>\n",
              "      <th>num_mean_temp_samples</th>\n",
              "      <th>mean_dew_point</th>\n",
              "      <th>num_mean_dew_point_samples</th>\n",
              "      <th>mean_sealevel_pressure</th>\n",
              "      <th>num_mean_sealevel_pressure_samples</th>\n",
              "      <th>mean_station_pressure</th>\n",
              "      <th>num_mean_station_pressure_samples</th>\n",
              "      <th>mean_visibility</th>\n",
              "      <th>num_mean_visibility_samples</th>\n",
              "      <th>mean_wind_speed</th>\n",
              "      <th>num_mean_wind_speed_samples</th>\n",
              "      <th>max_sustained_wind_speed</th>\n",
              "      <th>max_gust_wind_speed</th>\n",
              "      <th>max_temperature</th>\n",
              "      <th>max_temperature_explicit</th>\n",
              "      <th>min_temperature</th>\n",
              "      <th>min_temperature_explicit</th>\n",
              "      <th>total_precipitation</th>\n",
              "      <th>snow_depth</th>\n",
              "      <th>fog</th>\n",
              "      <th>rain</th>\n",
              "      <th>snow</th>\n",
              "      <th>hail</th>\n",
              "      <th>thunder</th>\n",
              "      <th>tornado</th>\n",
              "    </tr>\n",
              "  </thead>\n",
              "  <tbody>\n",
              "    <tr>\n",
              "      <th>0</th>\n",
              "      <td>130140</td>\n",
              "      <td>99999</td>\n",
              "      <td>1979</td>\n",
              "      <td>12</td>\n",
              "      <td>20</td>\n",
              "      <td>32.400002</td>\n",
              "      <td>24</td>\n",
              "      <td>31.299999</td>\n",
              "      <td>24.0</td>\n",
              "      <td>NaN</td>\n",
              "      <td>NaN</td>\n",
              "      <td>NaN</td>\n",
              "      <td>NaN</td>\n",
              "      <td>1.000000</td>\n",
              "      <td>24.0</td>\n",
              "      <td>1.5</td>\n",
              "      <td>24.0</td>\n",
              "      <td>4.9</td>\n",
              "      <td>NaN</td>\n",
              "      <td>30.200001</td>\n",
              "      <td>False</td>\n",
              "      <td>None</td>\n",
              "      <td>None</td>\n",
              "      <td>0.83</td>\n",
              "      <td>7.1</td>\n",
              "      <td>True</td>\n",
              "      <td>True</td>\n",
              "      <td>True</td>\n",
              "      <td>True</td>\n",
              "      <td>True</td>\n",
              "      <td>True</td>\n",
              "    </tr>\n",
              "    <tr>\n",
              "      <th>1</th>\n",
              "      <td>933370</td>\n",
              "      <td>99999</td>\n",
              "      <td>1986</td>\n",
              "      <td>3</td>\n",
              "      <td>9</td>\n",
              "      <td>57.700001</td>\n",
              "      <td>5</td>\n",
              "      <td>45.299999</td>\n",
              "      <td>5.0</td>\n",
              "      <td>NaN</td>\n",
              "      <td>NaN</td>\n",
              "      <td>NaN</td>\n",
              "      <td>NaN</td>\n",
              "      <td>9.900000</td>\n",
              "      <td>5.0</td>\n",
              "      <td>5.6</td>\n",
              "      <td>5.0</td>\n",
              "      <td>7.0</td>\n",
              "      <td>NaN</td>\n",
              "      <td>42.299999</td>\n",
              "      <td>True</td>\n",
              "      <td>None</td>\n",
              "      <td>None</td>\n",
              "      <td>0.00</td>\n",
              "      <td>NaN</td>\n",
              "      <td>True</td>\n",
              "      <td>True</td>\n",
              "      <td>True</td>\n",
              "      <td>True</td>\n",
              "      <td>True</td>\n",
              "      <td>True</td>\n",
              "    </tr>\n",
              "    <tr>\n",
              "      <th>2</th>\n",
              "      <td>702490</td>\n",
              "      <td>99999</td>\n",
              "      <td>1989</td>\n",
              "      <td>6</td>\n",
              "      <td>25</td>\n",
              "      <td>50.400002</td>\n",
              "      <td>8</td>\n",
              "      <td>37.799999</td>\n",
              "      <td>8.0</td>\n",
              "      <td>NaN</td>\n",
              "      <td>NaN</td>\n",
              "      <td>NaN</td>\n",
              "      <td>NaN</td>\n",
              "      <td>24.200001</td>\n",
              "      <td>8.0</td>\n",
              "      <td>11.5</td>\n",
              "      <td>8.0</td>\n",
              "      <td>21.0</td>\n",
              "      <td>32.099998</td>\n",
              "      <td>45.000000</td>\n",
              "      <td>True</td>\n",
              "      <td>None</td>\n",
              "      <td>None</td>\n",
              "      <td>NaN</td>\n",
              "      <td>NaN</td>\n",
              "      <td>False</td>\n",
              "      <td>False</td>\n",
              "      <td>False</td>\n",
              "      <td>False</td>\n",
              "      <td>False</td>\n",
              "      <td>False</td>\n",
              "    </tr>\n",
              "    <tr>\n",
              "      <th>3</th>\n",
              "      <td>526570</td>\n",
              "      <td>99999</td>\n",
              "      <td>1988</td>\n",
              "      <td>12</td>\n",
              "      <td>3</td>\n",
              "      <td>20.700001</td>\n",
              "      <td>4</td>\n",
              "      <td>2.800000</td>\n",
              "      <td>4.0</td>\n",
              "      <td>NaN</td>\n",
              "      <td>NaN</td>\n",
              "      <td>732.200012</td>\n",
              "      <td>4.0</td>\n",
              "      <td>18.600000</td>\n",
              "      <td>4.0</td>\n",
              "      <td>5.8</td>\n",
              "      <td>4.0</td>\n",
              "      <td>13.6</td>\n",
              "      <td>NaN</td>\n",
              "      <td>7.200000</td>\n",
              "      <td>True</td>\n",
              "      <td>None</td>\n",
              "      <td>None</td>\n",
              "      <td>0.00</td>\n",
              "      <td>NaN</td>\n",
              "      <td>False</td>\n",
              "      <td>False</td>\n",
              "      <td>False</td>\n",
              "      <td>False</td>\n",
              "      <td>False</td>\n",
              "      <td>False</td>\n",
              "    </tr>\n",
              "    <tr>\n",
              "      <th>4</th>\n",
              "      <td>109711</td>\n",
              "      <td>99999</td>\n",
              "      <td>1969</td>\n",
              "      <td>6</td>\n",
              "      <td>27</td>\n",
              "      <td>58.099998</td>\n",
              "      <td>15</td>\n",
              "      <td>50.000000</td>\n",
              "      <td>15.0</td>\n",
              "      <td>NaN</td>\n",
              "      <td>NaN</td>\n",
              "      <td>939.299988</td>\n",
              "      <td>5.0</td>\n",
              "      <td>5.100000</td>\n",
              "      <td>15.0</td>\n",
              "      <td>1.9</td>\n",
              "      <td>15.0</td>\n",
              "      <td>6.0</td>\n",
              "      <td>NaN</td>\n",
              "      <td>48.400002</td>\n",
              "      <td>True</td>\n",
              "      <td>None</td>\n",
              "      <td>None</td>\n",
              "      <td>NaN</td>\n",
              "      <td>NaN</td>\n",
              "      <td>True</td>\n",
              "      <td>True</td>\n",
              "      <td>True</td>\n",
              "      <td>True</td>\n",
              "      <td>True</td>\n",
              "      <td>True</td>\n",
              "    </tr>\n",
              "    <tr>\n",
              "      <th>5</th>\n",
              "      <td>403560</td>\n",
              "      <td>99999</td>\n",
              "      <td>2002</td>\n",
              "      <td>3</td>\n",
              "      <td>15</td>\n",
              "      <td>57.000000</td>\n",
              "      <td>24</td>\n",
              "      <td>38.200001</td>\n",
              "      <td>24.0</td>\n",
              "      <td>NaN</td>\n",
              "      <td>NaN</td>\n",
              "      <td>916.000000</td>\n",
              "      <td>8.0</td>\n",
              "      <td>6.200000</td>\n",
              "      <td>24.0</td>\n",
              "      <td>5.2</td>\n",
              "      <td>23.0</td>\n",
              "      <td>9.9</td>\n",
              "      <td>NaN</td>\n",
              "      <td>44.599998</td>\n",
              "      <td>False</td>\n",
              "      <td>None</td>\n",
              "      <td>None</td>\n",
              "      <td>0.00</td>\n",
              "      <td>NaN</td>\n",
              "      <td>False</td>\n",
              "      <td>False</td>\n",
              "      <td>False</td>\n",
              "      <td>False</td>\n",
              "      <td>False</td>\n",
              "      <td>False</td>\n",
              "    </tr>\n",
              "    <tr>\n",
              "      <th>6</th>\n",
              "      <td>578720</td>\n",
              "      <td>99999</td>\n",
              "      <td>1979</td>\n",
              "      <td>12</td>\n",
              "      <td>31</td>\n",
              "      <td>47.799999</td>\n",
              "      <td>4</td>\n",
              "      <td>42.799999</td>\n",
              "      <td>4.0</td>\n",
              "      <td>1018.500000</td>\n",
              "      <td>4.0</td>\n",
              "      <td>NaN</td>\n",
              "      <td>NaN</td>\n",
              "      <td>6.100000</td>\n",
              "      <td>4.0</td>\n",
              "      <td>9.7</td>\n",
              "      <td>4.0</td>\n",
              "      <td>11.7</td>\n",
              "      <td>NaN</td>\n",
              "      <td>39.200001</td>\n",
              "      <td>True</td>\n",
              "      <td>None</td>\n",
              "      <td>None</td>\n",
              "      <td>0.00</td>\n",
              "      <td>NaN</td>\n",
              "      <td>False</td>\n",
              "      <td>False</td>\n",
              "      <td>False</td>\n",
              "      <td>False</td>\n",
              "      <td>False</td>\n",
              "      <td>False</td>\n",
              "    </tr>\n",
              "    <tr>\n",
              "      <th>7</th>\n",
              "      <td>150730</td>\n",
              "      <td>99999</td>\n",
              "      <td>1990</td>\n",
              "      <td>7</td>\n",
              "      <td>13</td>\n",
              "      <td>62.200001</td>\n",
              "      <td>13</td>\n",
              "      <td>59.099998</td>\n",
              "      <td>4.0</td>\n",
              "      <td>1017.400024</td>\n",
              "      <td>4.0</td>\n",
              "      <td>972.400024</td>\n",
              "      <td>4.0</td>\n",
              "      <td>9.300000</td>\n",
              "      <td>12.0</td>\n",
              "      <td>0.0</td>\n",
              "      <td>12.0</td>\n",
              "      <td>NaN</td>\n",
              "      <td>NaN</td>\n",
              "      <td>34.200001</td>\n",
              "      <td>True</td>\n",
              "      <td>None</td>\n",
              "      <td>None</td>\n",
              "      <td>0.00</td>\n",
              "      <td>NaN</td>\n",
              "      <td>False</td>\n",
              "      <td>False</td>\n",
              "      <td>False</td>\n",
              "      <td>False</td>\n",
              "      <td>False</td>\n",
              "      <td>False</td>\n",
              "    </tr>\n",
              "    <tr>\n",
              "      <th>8</th>\n",
              "      <td>360910</td>\n",
              "      <td>99999</td>\n",
              "      <td>1985</td>\n",
              "      <td>10</td>\n",
              "      <td>21</td>\n",
              "      <td>26.299999</td>\n",
              "      <td>6</td>\n",
              "      <td>19.600000</td>\n",
              "      <td>6.0</td>\n",
              "      <td>1031.099976</td>\n",
              "      <td>6.0</td>\n",
              "      <td>NaN</td>\n",
              "      <td>NaN</td>\n",
              "      <td>26.900000</td>\n",
              "      <td>6.0</td>\n",
              "      <td>0.6</td>\n",
              "      <td>6.0</td>\n",
              "      <td>1.9</td>\n",
              "      <td>NaN</td>\n",
              "      <td>13.600000</td>\n",
              "      <td>True</td>\n",
              "      <td>None</td>\n",
              "      <td>None</td>\n",
              "      <td>0.12</td>\n",
              "      <td>1.6</td>\n",
              "      <td>False</td>\n",
              "      <td>False</td>\n",
              "      <td>False</td>\n",
              "      <td>False</td>\n",
              "      <td>False</td>\n",
              "      <td>False</td>\n",
              "    </tr>\n",
              "    <tr>\n",
              "      <th>9</th>\n",
              "      <td>289090</td>\n",
              "      <td>99999</td>\n",
              "      <td>1969</td>\n",
              "      <td>6</td>\n",
              "      <td>8</td>\n",
              "      <td>72.099998</td>\n",
              "      <td>7</td>\n",
              "      <td>50.700001</td>\n",
              "      <td>7.0</td>\n",
              "      <td>1011.500000</td>\n",
              "      <td>7.0</td>\n",
              "      <td>NaN</td>\n",
              "      <td>NaN</td>\n",
              "      <td>6.200000</td>\n",
              "      <td>7.0</td>\n",
              "      <td>8.3</td>\n",
              "      <td>7.0</td>\n",
              "      <td>15.9</td>\n",
              "      <td>NaN</td>\n",
              "      <td>59.000000</td>\n",
              "      <td>False</td>\n",
              "      <td>None</td>\n",
              "      <td>None</td>\n",
              "      <td>0.00</td>\n",
              "      <td>NaN</td>\n",
              "      <td>False</td>\n",
              "      <td>False</td>\n",
              "      <td>False</td>\n",
              "      <td>False</td>\n",
              "      <td>False</td>\n",
              "      <td>False</td>\n",
              "    </tr>\n",
              "  </tbody>\n",
              "</table>\n",
              "</div>"
            ],
            "text/plain": [
              "   station_number  wban_number  year  month  ...   snow   hail  thunder  tornado\n",
              "0          130140        99999  1979     12  ...   True   True     True     True\n",
              "1          933370        99999  1986      3  ...   True   True     True     True\n",
              "2          702490        99999  1989      6  ...  False  False    False    False\n",
              "3          526570        99999  1988     12  ...  False  False    False    False\n",
              "4          109711        99999  1969      6  ...   True   True     True     True\n",
              "5          403560        99999  2002      3  ...  False  False    False    False\n",
              "6          578720        99999  1979     12  ...  False  False    False    False\n",
              "7          150730        99999  1990      7  ...  False  False    False    False\n",
              "8          360910        99999  1985     10  ...  False  False    False    False\n",
              "9          289090        99999  1969      6  ...  False  False    False    False\n",
              "\n",
              "[10 rows x 31 columns]"
            ]
          },
          "metadata": {
            "tags": []
          },
          "execution_count": 12
        }
      ]
    },
    {
      "cell_type": "code",
      "metadata": {
        "colab_type": "code",
        "id": "1K7weAv6KtAq",
        "outputId": "35c7949c-4f28-4742-cf6a-ce0eb70c96e9",
        "colab": {
          "base_uri": "https://localhost:8080/",
          "height": 304
        }
      },
      "source": [
        "# 10 highest total_precipitation samples\n",
        "df.sort_values('total_precipitation', ascending=False).head(10)[['station_number', 'year', 'month', 'day', 'total_precipitation']]"
      ],
      "execution_count": 13,
      "outputs": [
        {
          "output_type": "execute_result",
          "data": {
            "application/vnd.google.colaboratory.module+javascript": "\n      import \"https://ssl.gstatic.com/colaboratory/data_table/a6224c040fa35dcf/data_table.js\";\n\n      window.createDataTable({\n        data: [[{\n            'v': 746,\n            'f': \"746\",\n        },\n{\n            'v': 430140,\n            'f': \"430140\",\n        },\n{\n            'v': 1992,\n            'f': \"1992\",\n        },\n{\n            'v': 9,\n            'f': \"9\",\n        },\n{\n            'v': 3,\n            'f': \"3\",\n        },\n{\n            'v': 7.329999923706055,\n            'f': \"7.329999923706055\",\n        }],\n [{\n            'v': 1323,\n            'f': \"1323\",\n        },\n{\n            'v': 913170,\n            'f': \"913170\",\n        },\n{\n            'v': 1983,\n            'f': \"1983\",\n        },\n{\n            'v': 8,\n            'f': \"8\",\n        },\n{\n            'v': 3,\n            'f': \"3\",\n        },\n{\n            'v': 4.210000038146973,\n            'f': \"4.210000038146973\",\n        }],\n [{\n            'v': 861,\n            'f': \"861\",\n        },\n{\n            'v': 619800,\n            'f': \"619800\",\n        },\n{\n            'v': 2008,\n            'f': \"2008\",\n        },\n{\n            'v': 1,\n            'f': \"1\",\n        },\n{\n            'v': 30,\n            'f': \"30\",\n        },\n{\n            'v': 4.130000114440918,\n            'f': \"4.130000114440918\",\n        }],\n [{\n            'v': 841,\n            'f': \"841\",\n        },\n{\n            'v': 478130,\n            'f': \"478130\",\n        },\n{\n            'v': 1956,\n            'f': \"1956\",\n        },\n{\n            'v': 8,\n            'f': \"8\",\n        },\n{\n            'v': 27,\n            'f': \"27\",\n        },\n{\n            'v': 3.9800000190734863,\n            'f': \"3.9800000190734863\",\n        }],\n [{\n            'v': 515,\n            'f': \"515\",\n        },\n{\n            'v': 22880,\n            'f': \"22880\",\n        },\n{\n            'v': 1978,\n            'f': \"1978\",\n        },\n{\n            'v': 1,\n            'f': \"1\",\n        },\n{\n            'v': 9,\n            'f': \"9\",\n        },\n{\n            'v': 3.940000057220459,\n            'f': \"3.940000057220459\",\n        }],\n [{\n            'v': 1342,\n            'f': \"1342\",\n        },\n{\n            'v': 577130,\n            'f': \"577130\",\n        },\n{\n            'v': 1983,\n            'f': \"1983\",\n        },\n{\n            'v': 4,\n            'f': \"4\",\n        },\n{\n            'v': 15,\n            'f': \"15\",\n        },\n{\n            'v': 3.390000104904175,\n            'f': \"3.390000104904175\",\n        }],\n [{\n            'v': 374,\n            'f': \"374\",\n        },\n{\n            'v': 334290,\n            'f': \"334290\",\n        },\n{\n            'v': 1963,\n            'f': \"1963\",\n        },\n{\n            'v': 12,\n            'f': \"12\",\n        },\n{\n            'v': 18,\n            'f': \"18\",\n        },\n{\n            'v': 2.950000047683716,\n            'f': \"2.950000047683716\",\n        }],\n [{\n            'v': 1641,\n            'f': \"1641\",\n        },\n{\n            'v': 479090,\n            'f': \"479090\",\n        },\n{\n            'v': 2007,\n            'f': \"2007\",\n        },\n{\n            'v': 8,\n            'f': \"8\",\n        },\n{\n            'v': 12,\n            'f': \"12\",\n        },\n{\n            'v': 2.4600000381469727,\n            'f': \"2.4600000381469727\",\n        }],\n [{\n            'v': 1798,\n            'f': \"1798\",\n        },\n{\n            'v': 299150,\n            'f': \"299150\",\n        },\n{\n            'v': 1980,\n            'f': \"1980\",\n        },\n{\n            'v': 6,\n            'f': \"6\",\n        },\n{\n            'v': 8,\n            'f': \"8\",\n        },\n{\n            'v': 2.359999895095825,\n            'f': \"2.359999895095825\",\n        }],\n [{\n            'v': 1081,\n            'f': \"1081\",\n        },\n{\n            'v': 432790,\n            'f': \"432790\",\n        },\n{\n            'v': 1999,\n            'f': \"1999\",\n        },\n{\n            'v': 8,\n            'f': \"8\",\n        },\n{\n            'v': 21,\n            'f': \"21\",\n        },\n{\n            'v': 2.359999895095825,\n            'f': \"2.359999895095825\",\n        }]],\n        columns: [[\"number\", \"index\"], [\"number\", \"station_number\"], [\"number\", \"year\"], [\"number\", \"month\"], [\"number\", \"day\"], [\"number\", \"total_precipitation\"]],\n        columnOptions: [{\"width\": \"1px\", \"className\": \"index_column\"}],\n        rowsPerPage: 25,\n        helpUrl: \"https://colab.research.google.com/notebooks/data_table.ipynb\",\n        suppressOutputScrolling: true,\n        minimumWidth: undefined,\n      });\n    ",
            "text/html": [
              "<div>\n",
              "<style scoped>\n",
              "    .dataframe tbody tr th:only-of-type {\n",
              "        vertical-align: middle;\n",
              "    }\n",
              "\n",
              "    .dataframe tbody tr th {\n",
              "        vertical-align: top;\n",
              "    }\n",
              "\n",
              "    .dataframe thead th {\n",
              "        text-align: right;\n",
              "    }\n",
              "</style>\n",
              "<table border=\"1\" class=\"dataframe\">\n",
              "  <thead>\n",
              "    <tr style=\"text-align: right;\">\n",
              "      <th></th>\n",
              "      <th>station_number</th>\n",
              "      <th>year</th>\n",
              "      <th>month</th>\n",
              "      <th>day</th>\n",
              "      <th>total_precipitation</th>\n",
              "    </tr>\n",
              "  </thead>\n",
              "  <tbody>\n",
              "    <tr>\n",
              "      <th>746</th>\n",
              "      <td>430140</td>\n",
              "      <td>1992</td>\n",
              "      <td>9</td>\n",
              "      <td>3</td>\n",
              "      <td>7.33</td>\n",
              "    </tr>\n",
              "    <tr>\n",
              "      <th>1323</th>\n",
              "      <td>913170</td>\n",
              "      <td>1983</td>\n",
              "      <td>8</td>\n",
              "      <td>3</td>\n",
              "      <td>4.21</td>\n",
              "    </tr>\n",
              "    <tr>\n",
              "      <th>861</th>\n",
              "      <td>619800</td>\n",
              "      <td>2008</td>\n",
              "      <td>1</td>\n",
              "      <td>30</td>\n",
              "      <td>4.13</td>\n",
              "    </tr>\n",
              "    <tr>\n",
              "      <th>841</th>\n",
              "      <td>478130</td>\n",
              "      <td>1956</td>\n",
              "      <td>8</td>\n",
              "      <td>27</td>\n",
              "      <td>3.98</td>\n",
              "    </tr>\n",
              "    <tr>\n",
              "      <th>515</th>\n",
              "      <td>22880</td>\n",
              "      <td>1978</td>\n",
              "      <td>1</td>\n",
              "      <td>9</td>\n",
              "      <td>3.94</td>\n",
              "    </tr>\n",
              "    <tr>\n",
              "      <th>1342</th>\n",
              "      <td>577130</td>\n",
              "      <td>1983</td>\n",
              "      <td>4</td>\n",
              "      <td>15</td>\n",
              "      <td>3.39</td>\n",
              "    </tr>\n",
              "    <tr>\n",
              "      <th>374</th>\n",
              "      <td>334290</td>\n",
              "      <td>1963</td>\n",
              "      <td>12</td>\n",
              "      <td>18</td>\n",
              "      <td>2.95</td>\n",
              "    </tr>\n",
              "    <tr>\n",
              "      <th>1641</th>\n",
              "      <td>479090</td>\n",
              "      <td>2007</td>\n",
              "      <td>8</td>\n",
              "      <td>12</td>\n",
              "      <td>2.46</td>\n",
              "    </tr>\n",
              "    <tr>\n",
              "      <th>1798</th>\n",
              "      <td>299150</td>\n",
              "      <td>1980</td>\n",
              "      <td>6</td>\n",
              "      <td>8</td>\n",
              "      <td>2.36</td>\n",
              "    </tr>\n",
              "    <tr>\n",
              "      <th>1081</th>\n",
              "      <td>432790</td>\n",
              "      <td>1999</td>\n",
              "      <td>8</td>\n",
              "      <td>21</td>\n",
              "      <td>2.36</td>\n",
              "    </tr>\n",
              "  </tbody>\n",
              "</table>\n",
              "</div>"
            ],
            "text/plain": [
              "      station_number  year  month  day  total_precipitation\n",
              "746           430140  1992      9    3                 7.33\n",
              "1323          913170  1983      8    3                 4.21\n",
              "861           619800  2008      1   30                 4.13\n",
              "841           478130  1956      8   27                 3.98\n",
              "515            22880  1978      1    9                 3.94\n",
              "1342          577130  1983      4   15                 3.39\n",
              "374           334290  1963     12   18                 2.95\n",
              "1641          479090  2007      8   12                 2.46\n",
              "1798          299150  1980      6    8                 2.36\n",
              "1081          432790  1999      8   21                 2.36"
            ]
          },
          "metadata": {
            "tags": []
          },
          "execution_count": 13
        }
      ]
    },
    {
      "cell_type": "markdown",
      "metadata": {
        "colab_type": "text",
        "id": "oKNxsRvuKtAz"
      },
      "source": [
        "# Use BigQuery through pandas-gbq\n",
        "\n",
        "The `pandas-gbq` library is a community led project by the pandas community. It covers basic functionality, such as writing a DataFrame to BigQuery and running a query, but as a third-party library it may not handle all BigQuery features or use cases.\n",
        "\n",
        "[Pandas GBQ Documentation](https://pandas.pydata.org/pandas-docs/stable/generated/pandas.read_gbq.html)"
      ]
    },
    {
      "cell_type": "code",
      "metadata": {
        "colab_type": "code",
        "id": "dWf7KIxjKtA0",
        "outputId": "ab775848-2c50-4b83-c62a-313b591f9796",
        "colab": {
          "base_uri": "https://localhost:8080/",
          "height": 197
        }
      },
      "source": [
        "import pandas as pd\n",
        "\n",
        "sample_count = 2000\n",
        "df = pd.io.gbq.read_gbq('''\n",
        "  SELECT name, SUM(number) as count\n",
        "  FROM `bigquery-public-data.usa_names.usa_1910_2013`\n",
        "  WHERE state = 'TX'\n",
        "  GROUP BY name\n",
        "  ORDER BY count DESC\n",
        "  LIMIT 100\n",
        "''', project_id=project_id, dialect='standard')\n",
        "\n",
        "df.head()"
      ],
      "execution_count": 14,
      "outputs": [
        {
          "output_type": "execute_result",
          "data": {
            "application/vnd.google.colaboratory.module+javascript": "\n      import \"https://ssl.gstatic.com/colaboratory/data_table/a6224c040fa35dcf/data_table.js\";\n\n      window.createDataTable({\n        data: [[{\n            'v': 0,\n            'f': \"0\",\n        },\n\"James\",\n{\n            'v': 272793,\n            'f': \"272793\",\n        }],\n [{\n            'v': 1,\n            'f': \"1\",\n        },\n\"John\",\n{\n            'v': 235139,\n            'f': \"235139\",\n        }],\n [{\n            'v': 2,\n            'f': \"2\",\n        },\n\"Michael\",\n{\n            'v': 225320,\n            'f': \"225320\",\n        }],\n [{\n            'v': 3,\n            'f': \"3\",\n        },\n\"Robert\",\n{\n            'v': 220399,\n            'f': \"220399\",\n        }],\n [{\n            'v': 4,\n            'f': \"4\",\n        },\n\"David\",\n{\n            'v': 219028,\n            'f': \"219028\",\n        }]],\n        columns: [[\"number\", \"index\"], [\"string\", \"name\"], [\"number\", \"count\"]],\n        columnOptions: [{\"width\": \"1px\", \"className\": \"index_column\"}],\n        rowsPerPage: 25,\n        helpUrl: \"https://colab.research.google.com/notebooks/data_table.ipynb\",\n        suppressOutputScrolling: true,\n        minimumWidth: undefined,\n      });\n    ",
            "text/html": [
              "<div>\n",
              "<style scoped>\n",
              "    .dataframe tbody tr th:only-of-type {\n",
              "        vertical-align: middle;\n",
              "    }\n",
              "\n",
              "    .dataframe tbody tr th {\n",
              "        vertical-align: top;\n",
              "    }\n",
              "\n",
              "    .dataframe thead th {\n",
              "        text-align: right;\n",
              "    }\n",
              "</style>\n",
              "<table border=\"1\" class=\"dataframe\">\n",
              "  <thead>\n",
              "    <tr style=\"text-align: right;\">\n",
              "      <th></th>\n",
              "      <th>name</th>\n",
              "      <th>count</th>\n",
              "    </tr>\n",
              "  </thead>\n",
              "  <tbody>\n",
              "    <tr>\n",
              "      <th>0</th>\n",
              "      <td>James</td>\n",
              "      <td>272793</td>\n",
              "    </tr>\n",
              "    <tr>\n",
              "      <th>1</th>\n",
              "      <td>John</td>\n",
              "      <td>235139</td>\n",
              "    </tr>\n",
              "    <tr>\n",
              "      <th>2</th>\n",
              "      <td>Michael</td>\n",
              "      <td>225320</td>\n",
              "    </tr>\n",
              "    <tr>\n",
              "      <th>3</th>\n",
              "      <td>Robert</td>\n",
              "      <td>220399</td>\n",
              "    </tr>\n",
              "    <tr>\n",
              "      <th>4</th>\n",
              "      <td>David</td>\n",
              "      <td>219028</td>\n",
              "    </tr>\n",
              "  </tbody>\n",
              "</table>\n",
              "</div>"
            ],
            "text/plain": [
              "      name   count\n",
              "0    James  272793\n",
              "1     John  235139\n",
              "2  Michael  225320\n",
              "3   Robert  220399\n",
              "4    David  219028"
            ]
          },
          "metadata": {
            "tags": []
          },
          "execution_count": 14
        }
      ]
    },
    {
      "cell_type": "markdown",
      "metadata": {
        "id": "cTifspcpAnwt",
        "colab_type": "text"
      },
      "source": [
        "We are ready for reading the data from BigQuery. Lets import libraries."
      ]
    },
    {
      "cell_type": "code",
      "metadata": {
        "id": "P35w3CUQ_Ssa",
        "colab_type": "code",
        "colab": {}
      },
      "source": [
        "import tensorflow as tf\n",
        "from tensorflow_io.bigquery import BigQueryClient"
      ],
      "execution_count": 0,
      "outputs": []
    },
    {
      "cell_type": "markdown",
      "metadata": {
        "id": "HI9fGALaBqz1",
        "colab_type": "text"
      },
      "source": [
        "You can find out more about [Google Public Dataset](https://cloud.google.com/bigquery/public-data \"public dataset\"). We are going to use `wikipedia` table.</br> \n",
        "You need to know the column names and correct data types to extract the data. You can see the schema information in table [Wikipedia](https://console.cloud.google.com/bigquery?_ga=2.134866614.610124587.1588637836-1349673052.1577980292&project=project1-190517&folder=&organizationId=&p=bigquery-public-data&d=samples&t=wikipedia&page=table \"Wikipedia summary table schema\")"
      ]
    },
    {
      "cell_type": "code",
      "metadata": {
        "id": "NUbYS9JS_GfS",
        "colab_type": "code",
        "colab": {}
      },
      "source": [
        "PROJECT_ID = \"project1-190517\" # This is from what you created in your Google Cloud Account. \n",
        "DATASET_GCP_PROJECT_ID = \"bigquery-public-data\"\n",
        "DATASET_ID = \"samples\"\n",
        "TABLE_ID = \"wikipedia\""
      ],
      "execution_count": 0,
      "outputs": []
    },
    {
      "cell_type": "code",
      "metadata": {
        "id": "6ZTSoVyVSAtM",
        "colab_type": "code",
        "colab": {}
      },
      "source": [
        "# Use this function to create a BigQuery client with read session.\n",
        "def run_bqsession(num_iterations):\n",
        "  batch_size = 2048\n",
        "  client = BigQueryClient()\n",
        "  read_session = client.read_session(\n",
        "      \"projects/\" + PROJECT_ID,\n",
        "      DATASET_GCP_PROJECT_ID, TABLE_ID, DATASET_ID,\n",
        "      [\"title\",\n",
        "       \"id\",\n",
        "       \"num_characters\",\n",
        "       \"language\",\n",
        "       \"timestamp\",\n",
        "       \"wp_namespace\",\n",
        "       \"contributor_username\"],\n",
        "      [tf.string,\n",
        "       tf.int64,\n",
        "       tf.int64,\n",
        "       tf.string,\n",
        "       tf.int64,\n",
        "       tf.int64,\n",
        "       tf.string],\n",
        "      requested_streams=10\n",
        "  )\n",
        "\n",
        "  dataset = read_session.parallel_read_rows(sloppy=True).batch(batch_size)\n",
        "  return dataset\n",
        "\n",
        "\n",
        "  "
      ],
      "execution_count": 0,
      "outputs": []
    },
    {
      "cell_type": "code",
      "metadata": {
        "id": "0nfVFBslSJnr",
        "colab_type": "code",
        "colab": {}
      },
      "source": [
        "batcheddataset = run_bqsession(1000)"
      ],
      "execution_count": 0,
      "outputs": []
    },
    {
      "cell_type": "markdown",
      "metadata": {
        "id": "DXRDtdesBFRH",
        "colab_type": "text"
      },
      "source": [
        "Check the type of `batcheddataset`."
      ]
    },
    {
      "cell_type": "code",
      "metadata": {
        "id": "Uv00oky5Z_mI",
        "colab_type": "code",
        "outputId": "4659ee47-195d-446d-9687-de2ca3b15bef",
        "colab": {
          "base_uri": "https://localhost:8080/",
          "height": 34
        }
      },
      "source": [
        "type(batcheddataset)"
      ],
      "execution_count": 32,
      "outputs": [
        {
          "output_type": "execute_result",
          "data": {
            "text/plain": [
              "tensorflow.python.data.ops.dataset_ops.BatchDataset"
            ]
          },
          "metadata": {
            "tags": []
          },
          "execution_count": 32
        }
      ]
    },
    {
      "cell_type": "markdown",
      "metadata": {
        "id": "ifxJVTKSBJGf",
        "colab_type": "text"
      },
      "source": [
        "Check its result:"
      ]
    },
    {
      "cell_type": "code",
      "metadata": {
        "id": "D1839uusaP5C",
        "colab_type": "code",
        "outputId": "38e03880-2b89-4767-9ad1-e7f39cdd796f",
        "colab": {
          "base_uri": "https://localhost:8080/",
          "height": 357
        }
      },
      "source": [
        "next(iter(batcheddataset))"
      ],
      "execution_count": 33,
      "outputs": [
        {
          "output_type": "execute_result",
          "data": {
            "text/plain": [
              "OrderedDict([('contributor_username',\n",
              "              <tf.Tensor: shape=(2048,), dtype=string, numpy=\n",
              "              array([b'', b'Quuxplusone', b'', ..., b'SergioGeorgini', b'', b''],\n",
              "                    dtype=object)>),\n",
              "             ('id',\n",
              "              <tf.Tensor: shape=(2048,), dtype=int64, numpy=array([ 1462053, 20588767,  1334066, ...,  8763706, 19734410,  3934010])>),\n",
              "             ('language',\n",
              "              <tf.Tensor: shape=(2048,), dtype=string, numpy=array([b'', b'', b'', ..., b'', b'', b''], dtype=object)>),\n",
              "             ('num_characters',\n",
              "              <tf.Tensor: shape=(2048,), dtype=int64, numpy=array([20009,   702, 22598, ...,  6866,  6404, 31562])>),\n",
              "             ('timestamp', <tf.Tensor: shape=(2048,), dtype=int64, numpy=\n",
              "              array([1173977859, 1228703659, 1233678081, ..., 1172320333, 1231434952,\n",
              "                     1224832272])>),\n",
              "             ('title', <tf.Tensor: shape=(2048,), dtype=string, numpy=\n",
              "              array([b'Strait of Messina Bridge', b'File talk:Quigley down under.jpg',\n",
              "                     b'Humayun Ahmed', ..., b'Template talk:Infobox Disney ride',\n",
              "                     b'Friends, Lovers, Brothers, and Others', b'History of beer'],\n",
              "                    dtype=object)>),\n",
              "             ('wp_namespace',\n",
              "              <tf.Tensor: shape=(2048,), dtype=int64, numpy=array([ 0,  7,  0, ..., 11,  0,  0])>)])"
            ]
          },
          "metadata": {
            "tags": []
          },
          "execution_count": 33
        }
      ]
    },
    {
      "cell_type": "markdown",
      "metadata": {
        "id": "n7BuZVSJ-vOb",
        "colab_type": "text"
      },
      "source": [
        "### Examine output"
      ]
    },
    {
      "cell_type": "markdown",
      "metadata": {
        "id": "-lsa9gmR-zWw",
        "colab_type": "text"
      },
      "source": [
        "Lets print out first five records in this dataset."
      ]
    },
    {
      "cell_type": "code",
      "metadata": {
        "id": "Um2O2CBcUNmL",
        "colab_type": "code",
        "outputId": "19a5d9e2-3f3a-4408-a751-792a1870223f",
        "colab": {
          "base_uri": "https://localhost:8080/",
          "height": 632
        }
      },
      "source": [
        "n = 0\n",
        "for next_element in batcheddataset:\n",
        "  n+=1\n",
        "  if (n < 6):\n",
        "    tf.print(next_element)\n",
        "  else:\n",
        "    break"
      ],
      "execution_count": 34,
      "outputs": [
        {
          "output_type": "stream",
          "text": [
            "OrderedDict([('contributor_username', [\"\" \"Quuxplusone\" \"\" ... \"SergioGeorgini\" \"\" \"\"]),\n",
            "             ('id', [1462053 20588767 1334066 ... 8763706 19734410 3934010]),\n",
            "             ('language', [\"\" \"\" \"\" ... \"\" \"\" \"\"]),\n",
            "             ('num_characters', [20009 702 22598 ... 6866 6404 31562]),\n",
            "             ('timestamp', [1173977859 1228703659 1233678081 ... 1172320333 1231434952 1224832272]),\n",
            "             ('title', [\"Strait of Messina Bridge\" \"File talk:Quigley down under.jpg\" \"Humayun Ahmed\" ... \"Template talk:Infobox Disney ride\" \"Friends, Lovers, Brothers, and Others\" \"History of beer\"]),\n",
            "             ('wp_namespace', [0 7 0 ... 11 0 0])])\n",
            "OrderedDict([('contributor_username', [\"\" \"\" \"\" ... \"\" \"\" \"Hiding\"]),\n",
            "             ('id', [16100029 11802780 5710507 ... 28320 184170 3934822]),\n",
            "             ('language', [\"\" \"\" \"\" ... \"\" \"\" \"\"]),\n",
            "             ('num_characters', [29658 10255 36177 ... 20757 8221 23982]),\n",
            "             ('timestamp', [1202059478 1235735112 1128136733 ... 1237945853 1136224118 1196433574]),\n",
            "             ('title', [\"Novak Djokovic\" \"List of railway stations and tram stops in Croydon\" \"Pornography\" ... \"Steve Biko\" \"Billy Mitchell\" \"Template talk:Non-free logo\"]),\n",
            "             ('wp_namespace', [0 0 0 ... 0 0 11])])\n",
            "OrderedDict([('contributor_username', [\"\" \"\" \"\" ... \"Epicadam\" \"\" \"\"]),\n",
            "             ('id', [2157118 1441332 713742 ... 972034 12180759 6615110]),\n",
            "             ('language', [\"\" \"\" \"\" ... \"\" \"\" \"\"]),\n",
            "             ('num_characters', [10661 1042 1653 ... 160655 5194 1691]),\n",
            "             ('timestamp', [1152278119 1143606605 1110501213 ... 1219881269 1184200895 1240275896]),\n",
            "             ('title', [\"Living Enrichment Center\" \"Qui tam\" \"Dongguan\" ... \"Template talk:Did you know\" \"E3 2007\" \"Tetsuya\\'s\"]),\n",
            "             ('wp_namespace', [0 0 0 ... 11 0 0])])\n",
            "OrderedDict([('contributor_username', [\"\" \"Kingbotk\" \"\" ... \"\" \"\" \"The Ogre\"]),\n",
            "             ('id', [337401 6577448 912032 ... 1536200 108030 15276259]),\n",
            "             ('language', [\"\" \"\" \"\" ... \"\" \"\" \"\"]),\n",
            "             ('num_characters', [14939 30 9818 ... 30214 35332 1759]),\n",
            "             ('timestamp', [1210130666 1156098745 1178041674 ... 1256823338 1191906719 1200578503]),\n",
            "             ('title', [\"Stations of the Cross\" \"Category talk:Heavy metal song stubs\" \"Equitation\" ... \"Rain (entertainer)\" \"Carlsbad, California\" \"Template talk:Andrade Lands\"]),\n",
            "             ('wp_namespace', [0 15 0 ... 0 0 11])])\n",
            "OrderedDict([('contributor_username', [\"\" \"\" \"\" ... \"\" \"\" \"\"]),\n",
            "             ('id', [16731098 1345821 12169798 ... 4303879 2421062 8401814]),\n",
            "             ('language', [\"\" \"\" \"\" ... \"\" \"\" \"\"]),\n",
            "             ('num_characters', [21234 1484 11117 ... 37776 10860 4232]),\n",
            "             ('timestamp', [1207415038 1251046702 1243797755 ... 1172021398 1214331105 1226958799]),\n",
            "             ('title', [\"Doctor Who (series 4)\" \"Unsecured debt\" \"Kimora Lee Simmons\" ... \"Detroit Public Schools\" \"Bhilai\" \"Peter Westervelt\"]),\n",
            "             ('wp_namespace', [0 0 0 ... 0 0 0])])\n"
          ],
          "name": "stdout"
        }
      ]
    },
    {
      "cell_type": "markdown",
      "metadata": {
        "id": "WmuHSsciD_ah",
        "colab_type": "text"
      },
      "source": [
        "Now we have `batcheddataset` as a `TensorFlow` iterator. It is one of the commonly used entry point data types for model training."
      ]
    },
    {
      "cell_type": "code",
      "metadata": {
        "id": "lrZf00YATY__",
        "colab_type": "code",
        "colab": {}
      },
      "source": [
        ""
      ],
      "execution_count": 0,
      "outputs": []
    }
  ]
}